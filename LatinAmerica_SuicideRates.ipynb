{
  "nbformat": 4,
  "nbformat_minor": 0,
  "metadata": {
    "colab": {
      "name": "LatinAmerica_SuicideRates.ipynb",
      "version": "0.3.2",
      "provenance": [],
      "toc_visible": true,
      "include_colab_link": true
    },
    "kernelspec": {
      "name": "python3",
      "display_name": "Python 3"
    }
  },
  "cells": [
    {
      "cell_type": "markdown",
      "metadata": {
        "id": "view-in-github",
        "colab_type": "text"
      },
      "source": [
        "<a href=\"https://colab.research.google.com/github/andressatheotonio/LatinAmerica_SuicideRates/blob/master/LatinAmerica_SuicideRates.ipynb\" target=\"_parent\"><img src=\"https://colab.research.google.com/assets/colab-badge.svg\" alt=\"Open In Colab\"/></a>"
      ]
    },
    {
      "cell_type": "markdown",
      "metadata": {
        "id": "Ey9xPsvAd4xp",
        "colab_type": "text"
      },
      "source": [
        "\n",
        "# América Latina\n",
        "\n",
        "A América Latina é um dos continentes com menores números nos índices de morte por suicídio. Porém, isso não deve excluir o suicídio das políticas de prevenção, já que o número vem se tornando cada ano mais significante nos países latino americanos. \n",
        "\n",
        "Relacionando os dados utilizados nesse projeto e matérias veiculadas em grandes jornais e revistas, podemos afirmar que o gênero mais afetado pelo comportamento suicida é o masculino. Fazendo um recorte desse público, confirmamos que homens jovens (15-29 anos) e idosos são os mais expostos a esse risco. Esse dado pode ser relacionado a como os homens reagem a crises de diversos tipos em suas vidas, já que muitos deles sofrem com a vergonha de mostrar fragilidades e têm um menor interesse em buscar auxílio profissional.\n",
        "\n",
        "Além disso, é de extrema importância lembrar que o suicídio não é um \"fenômeno\" que pode ser completamente analisado por dados. Isso ocorre porque aspectos culturais e trajetórias pessoais são de grande influência no comportamento suicida, muitas vezes, tão ou mais determinantes que a qualidade de vida do país em que vive, o acesso à educação, a liberdade social/econômica e o uso de drogas lícitas e ilícitas.\n",
        "\n",
        "_Lembre-se: Você anda tendo pensamentos com tendências suicidas ou está deprimido e ansioso? Ligue para o Centro de Valorização da Vida (CVV). As ligações são gratuitas e o contato deve ser feito pelo número 188._\n",
        "\n",
        "\n",
        "## Índices Utilizados\n",
        "\n",
        "*  IDH (Índice de Desenvolvimento Humano, 0: menor índice, 1000: maior índice)\n",
        "*  Taxa de Suícidios, Masculino (por 100.000 hab)\n",
        "*  Taxa de Suícidios, Feminino (por 100.000 hab)\n",
        "*  Índice de Desigualdade de Gênero (0: mais igual, 1000: mais desigual)\n",
        "* Índice de Renda (Paridade do Poder de Compra, per capita, 0: menor índice, 1000: maior índice)\n",
        "* Taxa de Desemprego (% da PEA - População Economicamente Ativa)\n",
        "* Índice de Educação (0: pior sistema educacional, 1000: melhor sistema educacional)\n",
        "* Índice de Liberdade (Direitos Políticos e Liberdade Civil - 1: Livre, 7: Não Livre)\n",
        "* Taxa de Divórcios (por 100.000 hab)\n",
        "* Taxa de Transtornos e Doenças causadas pelo consumo de drogas (por 100.000 hab)\n",
        "\n",
        "## Fontes dos Dados Utilizados\n",
        "\n",
        "* UNDP (United Nations Development Programme) - http://hdr.undp.org/\n",
        "* Freedom House - https://freedomhouse.org/\n",
        "* Our World In Data - https://ourworldindata.org/\n",
        "* Espacio Investiga: Fundación Rafael Del Pino - https://espacioinvestiga.org/\n"
      ]
    },
    {
      "cell_type": "markdown",
      "metadata": {
        "id": "qy7UMepPeLoi",
        "colab_type": "text"
      },
      "source": [
        "### Pré processo e análise dos dados\n"
      ]
    },
    {
      "cell_type": "code",
      "metadata": {
        "id": "_RQhrxN3eBeG",
        "colab_type": "code",
        "colab": {}
      },
      "source": [
        "#Importando bibliotecas\n",
        "\n",
        "import matplotlib.pyplot as plot\n",
        "import pandas as pd\n",
        "import numpy as np\n",
        "import seaborn as sns\n",
        "from sklearn import metrics\n",
        "from sklearn.model_selection import train_test_split\n",
        "from sklearn.linear_model import LinearRegression"
      ],
      "execution_count": 0,
      "outputs": []
    },
    {
      "cell_type": "code",
      "metadata": {
        "id": "c00Z08lQeTt7",
        "colab_type": "code",
        "outputId": "37d6a191-6aa6-4f9f-91fc-37d1db10dc8a",
        "colab": {
          "base_uri": "https://localhost:8080/",
          "height": 867
        }
      },
      "source": [
        "#Importando arquivos e exibindo dataframe\n",
        "\n",
        "latinamerica = pd.read_csv(\"latinamerica2015.csv\", sep=\",\")\n",
        "\n",
        "latinamerica = latinamerica.dropna()\n",
        "\n",
        "latinamerica"
      ],
      "execution_count": 0,
      "outputs": [
        {
          "output_type": "execute_result",
          "data": {
            "text/html": [
              "<div>\n",
              "<style scoped>\n",
              "    .dataframe tbody tr th:only-of-type {\n",
              "        vertical-align: middle;\n",
              "    }\n",
              "\n",
              "    .dataframe tbody tr th {\n",
              "        vertical-align: top;\n",
              "    }\n",
              "\n",
              "    .dataframe thead th {\n",
              "        text-align: right;\n",
              "    }\n",
              "</style>\n",
              "<table border=\"1\" class=\"dataframe\">\n",
              "  <thead>\n",
              "    <tr style=\"text-align: right;\">\n",
              "      <th></th>\n",
              "      <th>Countries</th>\n",
              "      <th>HDI</th>\n",
              "      <th>Male Suicides</th>\n",
              "      <th>Female Suicides</th>\n",
              "      <th>Gender Inequality</th>\n",
              "      <th>Income Index</th>\n",
              "      <th>Unemployment Index</th>\n",
              "      <th>Education Index</th>\n",
              "      <th>Freedom Index</th>\n",
              "      <th>Divorce Rate</th>\n",
              "      <th>Drugs Rate</th>\n",
              "    </tr>\n",
              "  </thead>\n",
              "  <tbody>\n",
              "    <tr>\n",
              "      <th>0</th>\n",
              "      <td>Chile</td>\n",
              "      <td>840</td>\n",
              "      <td>15.3</td>\n",
              "      <td>3.3</td>\n",
              "      <td>325.0</td>\n",
              "      <td>814</td>\n",
              "      <td>6.5</td>\n",
              "      <td>797</td>\n",
              "      <td>1.0</td>\n",
              "      <td>0.7</td>\n",
              "      <td>213.55</td>\n",
              "    </tr>\n",
              "    <tr>\n",
              "      <th>2</th>\n",
              "      <td>Bahamas</td>\n",
              "      <td>807</td>\n",
              "      <td>2.9</td>\n",
              "      <td>0.4</td>\n",
              "      <td>364.0</td>\n",
              "      <td>849</td>\n",
              "      <td>12.0</td>\n",
              "      <td>726</td>\n",
              "      <td>1.0</td>\n",
              "      <td>1.8</td>\n",
              "      <td>213.90</td>\n",
              "    </tr>\n",
              "    <tr>\n",
              "      <th>3</th>\n",
              "      <td>Uruguay</td>\n",
              "      <td>800</td>\n",
              "      <td>25.2</td>\n",
              "      <td>6.3</td>\n",
              "      <td>283.0</td>\n",
              "      <td>795</td>\n",
              "      <td>7.5</td>\n",
              "      <td>731</td>\n",
              "      <td>1.0</td>\n",
              "      <td>0.9</td>\n",
              "      <td>201.97</td>\n",
              "    </tr>\n",
              "    <tr>\n",
              "      <th>4</th>\n",
              "      <td>Barbados</td>\n",
              "      <td>797</td>\n",
              "      <td>0.5</td>\n",
              "      <td>0.1</td>\n",
              "      <td>294.0</td>\n",
              "      <td>761</td>\n",
              "      <td>11.4</td>\n",
              "      <td>777</td>\n",
              "      <td>1.0</td>\n",
              "      <td>1.5</td>\n",
              "      <td>179.49</td>\n",
              "    </tr>\n",
              "    <tr>\n",
              "      <th>5</th>\n",
              "      <td>Costa Rica</td>\n",
              "      <td>788</td>\n",
              "      <td>12.6</td>\n",
              "      <td>2.0</td>\n",
              "      <td>303.0</td>\n",
              "      <td>747</td>\n",
              "      <td>9.3</td>\n",
              "      <td>713</td>\n",
              "      <td>1.0</td>\n",
              "      <td>2.5</td>\n",
              "      <td>215.73</td>\n",
              "    </tr>\n",
              "    <tr>\n",
              "      <th>6</th>\n",
              "      <td>Panama</td>\n",
              "      <td>781</td>\n",
              "      <td>10.1</td>\n",
              "      <td>1.1</td>\n",
              "      <td>465.0</td>\n",
              "      <td>786</td>\n",
              "      <td>4.5</td>\n",
              "      <td>681</td>\n",
              "      <td>2.0</td>\n",
              "      <td>1.0</td>\n",
              "      <td>193.39</td>\n",
              "    </tr>\n",
              "    <tr>\n",
              "      <th>8</th>\n",
              "      <td>Venezuela (Bolivarian Republic of)</td>\n",
              "      <td>775</td>\n",
              "      <td>5.4</td>\n",
              "      <td>1.1</td>\n",
              "      <td>467.0</td>\n",
              "      <td>758</td>\n",
              "      <td>6.8</td>\n",
              "      <td>733</td>\n",
              "      <td>5.0</td>\n",
              "      <td>1.2</td>\n",
              "      <td>204.93</td>\n",
              "    </tr>\n",
              "    <tr>\n",
              "      <th>9</th>\n",
              "      <td>Cuba</td>\n",
              "      <td>772</td>\n",
              "      <td>17.0</td>\n",
              "      <td>4.2</td>\n",
              "      <td>307.0</td>\n",
              "      <td>653</td>\n",
              "      <td>2.4</td>\n",
              "      <td>768</td>\n",
              "      <td>6.5</td>\n",
              "      <td>2.9</td>\n",
              "      <td>174.25</td>\n",
              "    </tr>\n",
              "    <tr>\n",
              "      <th>10</th>\n",
              "      <td>Mexico</td>\n",
              "      <td>767</td>\n",
              "      <td>8.1</td>\n",
              "      <td>2.1</td>\n",
              "      <td>348.0</td>\n",
              "      <td>772</td>\n",
              "      <td>4.3</td>\n",
              "      <td>666</td>\n",
              "      <td>3.0</td>\n",
              "      <td>0.9</td>\n",
              "      <td>241.39</td>\n",
              "    </tr>\n",
              "    <tr>\n",
              "      <th>11</th>\n",
              "      <td>Brazil</td>\n",
              "      <td>757</td>\n",
              "      <td>9.6</td>\n",
              "      <td>2.7</td>\n",
              "      <td>413.0</td>\n",
              "      <td>750</td>\n",
              "      <td>8.4</td>\n",
              "      <td>680</td>\n",
              "      <td>2.0</td>\n",
              "      <td>1.4</td>\n",
              "      <td>267.94</td>\n",
              "    </tr>\n",
              "    <tr>\n",
              "      <th>12</th>\n",
              "      <td>Peru</td>\n",
              "      <td>745</td>\n",
              "      <td>9.2</td>\n",
              "      <td>2.9</td>\n",
              "      <td>385.0</td>\n",
              "      <td>716</td>\n",
              "      <td>3.0</td>\n",
              "      <td>686</td>\n",
              "      <td>2.5</td>\n",
              "      <td>0.9</td>\n",
              "      <td>209.38</td>\n",
              "    </tr>\n",
              "    <tr>\n",
              "      <th>13</th>\n",
              "      <td>Saint Lucia</td>\n",
              "      <td>744</td>\n",
              "      <td>12.0</td>\n",
              "      <td>1.6</td>\n",
              "      <td>337.0</td>\n",
              "      <td>716</td>\n",
              "      <td>24.1</td>\n",
              "      <td>676</td>\n",
              "      <td>1.0</td>\n",
              "      <td>0.7</td>\n",
              "      <td>202.96</td>\n",
              "    </tr>\n",
              "    <tr>\n",
              "      <th>14</th>\n",
              "      <td>Ecuador</td>\n",
              "      <td>743</td>\n",
              "      <td>11.5</td>\n",
              "      <td>3.7</td>\n",
              "      <td>387.0</td>\n",
              "      <td>704</td>\n",
              "      <td>3.6</td>\n",
              "      <td>675</td>\n",
              "      <td>3.0</td>\n",
              "      <td>1.1</td>\n",
              "      <td>213.40</td>\n",
              "    </tr>\n",
              "    <tr>\n",
              "      <th>15</th>\n",
              "      <td>Colombia</td>\n",
              "      <td>742</td>\n",
              "      <td>10.1</td>\n",
              "      <td>2.1</td>\n",
              "      <td>389.0</td>\n",
              "      <td>733</td>\n",
              "      <td>8.2</td>\n",
              "      <td>669</td>\n",
              "      <td>3.5</td>\n",
              "      <td>0.7</td>\n",
              "      <td>249.24</td>\n",
              "    </tr>\n",
              "    <tr>\n",
              "      <th>16</th>\n",
              "      <td>Jamaica</td>\n",
              "      <td>730</td>\n",
              "      <td>2.6</td>\n",
              "      <td>0.3</td>\n",
              "      <td>425.0</td>\n",
              "      <td>659</td>\n",
              "      <td>13.5</td>\n",
              "      <td>686</td>\n",
              "      <td>2.5</td>\n",
              "      <td>2.4</td>\n",
              "      <td>210.96</td>\n",
              "    </tr>\n",
              "    <tr>\n",
              "      <th>17</th>\n",
              "      <td>Dominican Republic</td>\n",
              "      <td>729</td>\n",
              "      <td>12.2</td>\n",
              "      <td>2.6</td>\n",
              "      <td>468.0</td>\n",
              "      <td>731</td>\n",
              "      <td>5.9</td>\n",
              "      <td>643</td>\n",
              "      <td>2.5</td>\n",
              "      <td>1.8</td>\n",
              "      <td>199.16</td>\n",
              "    </tr>\n",
              "    <tr>\n",
              "      <th>18</th>\n",
              "      <td>Suriname</td>\n",
              "      <td>722</td>\n",
              "      <td>41.6</td>\n",
              "      <td>12.6</td>\n",
              "      <td>443.0</td>\n",
              "      <td>754</td>\n",
              "      <td>7.2</td>\n",
              "      <td>632</td>\n",
              "      <td>2.0</td>\n",
              "      <td>1.3</td>\n",
              "      <td>218.77</td>\n",
              "    </tr>\n",
              "    <tr>\n",
              "      <th>20</th>\n",
              "      <td>Belize</td>\n",
              "      <td>709</td>\n",
              "      <td>14.7</td>\n",
              "      <td>2.0</td>\n",
              "      <td>380.0</td>\n",
              "      <td>655</td>\n",
              "      <td>10.0</td>\n",
              "      <td>704</td>\n",
              "      <td>1.5</td>\n",
              "      <td>0.6</td>\n",
              "      <td>180.96</td>\n",
              "    </tr>\n",
              "    <tr>\n",
              "      <th>21</th>\n",
              "      <td>Paraguay</td>\n",
              "      <td>702</td>\n",
              "      <td>13.7</td>\n",
              "      <td>6.1</td>\n",
              "      <td>466.0</td>\n",
              "      <td>666</td>\n",
              "      <td>4.6</td>\n",
              "      <td>637</td>\n",
              "      <td>3.0</td>\n",
              "      <td>0.9</td>\n",
              "      <td>161.32</td>\n",
              "    </tr>\n",
              "    <tr>\n",
              "      <th>22</th>\n",
              "      <td>Bolivia (Plurinational State of)</td>\n",
              "      <td>681</td>\n",
              "      <td>26.7</td>\n",
              "      <td>14.4</td>\n",
              "      <td>454.0</td>\n",
              "      <td>627</td>\n",
              "      <td>3.1</td>\n",
              "      <td>672</td>\n",
              "      <td>3.0</td>\n",
              "      <td>0.9</td>\n",
              "      <td>269.97</td>\n",
              "    </tr>\n",
              "    <tr>\n",
              "      <th>23</th>\n",
              "      <td>El Salvador</td>\n",
              "      <td>674</td>\n",
              "      <td>19.2</td>\n",
              "      <td>4.4</td>\n",
              "      <td>395.0</td>\n",
              "      <td>653</td>\n",
              "      <td>4.0</td>\n",
              "      <td>571</td>\n",
              "      <td>2.5</td>\n",
              "      <td>0.8</td>\n",
              "      <td>198.71</td>\n",
              "    </tr>\n",
              "    <tr>\n",
              "      <th>24</th>\n",
              "      <td>Nicaragua</td>\n",
              "      <td>652</td>\n",
              "      <td>15.9</td>\n",
              "      <td>4.2</td>\n",
              "      <td>465.0</td>\n",
              "      <td>591</td>\n",
              "      <td>4.5</td>\n",
              "      <td>553</td>\n",
              "      <td>3.5</td>\n",
              "      <td>0.8</td>\n",
              "      <td>181.14</td>\n",
              "    </tr>\n",
              "    <tr>\n",
              "      <th>25</th>\n",
              "      <td>Guyana</td>\n",
              "      <td>651</td>\n",
              "      <td>46.0</td>\n",
              "      <td>15.5</td>\n",
              "      <td>509.0</td>\n",
              "      <td>648</td>\n",
              "      <td>11.9</td>\n",
              "      <td>596</td>\n",
              "      <td>2.5</td>\n",
              "      <td>0.9</td>\n",
              "      <td>242.13</td>\n",
              "    </tr>\n",
              "    <tr>\n",
              "      <th>26</th>\n",
              "      <td>Guatemala</td>\n",
              "      <td>645</td>\n",
              "      <td>4.2</td>\n",
              "      <td>1.5</td>\n",
              "      <td>496.0</td>\n",
              "      <td>644</td>\n",
              "      <td>2.7</td>\n",
              "      <td>509</td>\n",
              "      <td>3.5</td>\n",
              "      <td>1.2</td>\n",
              "      <td>287.41</td>\n",
              "    </tr>\n",
              "    <tr>\n",
              "      <th>27</th>\n",
              "      <td>Honduras</td>\n",
              "      <td>609</td>\n",
              "      <td>5.8</td>\n",
              "      <td>2.6</td>\n",
              "      <td>465.0</td>\n",
              "      <td>558</td>\n",
              "      <td>4.6</td>\n",
              "      <td>494</td>\n",
              "      <td>4.0</td>\n",
              "      <td>0.9</td>\n",
              "      <td>244.74</td>\n",
              "    </tr>\n",
              "    <tr>\n",
              "      <th>28</th>\n",
              "      <td>Haiti</td>\n",
              "      <td>493</td>\n",
              "      <td>17.7</td>\n",
              "      <td>6.0</td>\n",
              "      <td>593.0</td>\n",
              "      <td>424</td>\n",
              "      <td>14.1</td>\n",
              "      <td>426</td>\n",
              "      <td>5.0</td>\n",
              "      <td>0.9</td>\n",
              "      <td>174.21</td>\n",
              "    </tr>\n",
              "  </tbody>\n",
              "</table>\n",
              "</div>"
            ],
            "text/plain": [
              "                             Countries  HDI  ...  Divorce Rate  Drugs Rate\n",
              "0                                Chile  840  ...           0.7      213.55\n",
              "2                              Bahamas  807  ...           1.8      213.90\n",
              "3                              Uruguay  800  ...           0.9      201.97\n",
              "4                             Barbados  797  ...           1.5      179.49\n",
              "5                           Costa Rica  788  ...           2.5      215.73\n",
              "6                               Panama  781  ...           1.0      193.39\n",
              "8   Venezuela (Bolivarian Republic of)  775  ...           1.2      204.93\n",
              "9                                 Cuba  772  ...           2.9      174.25\n",
              "10                              Mexico  767  ...           0.9      241.39\n",
              "11                              Brazil  757  ...           1.4      267.94\n",
              "12                                Peru  745  ...           0.9      209.38\n",
              "13                         Saint Lucia  744  ...           0.7      202.96\n",
              "14                             Ecuador  743  ...           1.1      213.40\n",
              "15                            Colombia  742  ...           0.7      249.24\n",
              "16                             Jamaica  730  ...           2.4      210.96\n",
              "17                  Dominican Republic  729  ...           1.8      199.16\n",
              "18                            Suriname  722  ...           1.3      218.77\n",
              "20                              Belize  709  ...           0.6      180.96\n",
              "21                            Paraguay  702  ...           0.9      161.32\n",
              "22    Bolivia (Plurinational State of)  681  ...           0.9      269.97\n",
              "23                         El Salvador  674  ...           0.8      198.71\n",
              "24                           Nicaragua  652  ...           0.8      181.14\n",
              "25                              Guyana  651  ...           0.9      242.13\n",
              "26                           Guatemala  645  ...           1.2      287.41\n",
              "27                            Honduras  609  ...           0.9      244.74\n",
              "28                               Haiti  493  ...           0.9      174.21\n",
              "\n",
              "[26 rows x 11 columns]"
            ]
          },
          "metadata": {
            "tags": []
          },
          "execution_count": 75
        }
      ]
    },
    {
      "cell_type": "code",
      "metadata": {
        "id": "5kJ8fqLvgCtL",
        "colab_type": "code",
        "outputId": "6b6d9b63-2cf3-4857-aa7f-5aa0f4ca735f",
        "colab": {
          "base_uri": "https://localhost:8080/",
          "height": 301
        }
      },
      "source": [
        "#Estatístics Descritivas do Dataframe\n",
        "\n",
        "latinamerica.describe().round(2)"
      ],
      "execution_count": 0,
      "outputs": [
        {
          "output_type": "execute_result",
          "data": {
            "text/html": [
              "<div>\n",
              "<style scoped>\n",
              "    .dataframe tbody tr th:only-of-type {\n",
              "        vertical-align: middle;\n",
              "    }\n",
              "\n",
              "    .dataframe tbody tr th {\n",
              "        vertical-align: top;\n",
              "    }\n",
              "\n",
              "    .dataframe thead th {\n",
              "        text-align: right;\n",
              "    }\n",
              "</style>\n",
              "<table border=\"1\" class=\"dataframe\">\n",
              "  <thead>\n",
              "    <tr style=\"text-align: right;\">\n",
              "      <th></th>\n",
              "      <th>HDI</th>\n",
              "      <th>Male Suicides</th>\n",
              "      <th>Female Suicides</th>\n",
              "      <th>Gender Inequality</th>\n",
              "      <th>Income Index</th>\n",
              "      <th>Unemployment Index</th>\n",
              "      <th>Education Index</th>\n",
              "      <th>Freedom Index</th>\n",
              "      <th>Divorce Rate</th>\n",
              "      <th>Drugs Rate</th>\n",
              "    </tr>\n",
              "  </thead>\n",
              "  <tbody>\n",
              "    <tr>\n",
              "      <th>count</th>\n",
              "      <td>26.00</td>\n",
              "      <td>26.00</td>\n",
              "      <td>26.00</td>\n",
              "      <td>26.00</td>\n",
              "      <td>26.00</td>\n",
              "      <td>26.00</td>\n",
              "      <td>26.00</td>\n",
              "      <td>26.00</td>\n",
              "      <td>26.00</td>\n",
              "      <td>26.00</td>\n",
              "    </tr>\n",
              "    <tr>\n",
              "      <th>mean</th>\n",
              "      <td>725.19</td>\n",
              "      <td>14.22</td>\n",
              "      <td>4.07</td>\n",
              "      <td>408.69</td>\n",
              "      <td>698.62</td>\n",
              "      <td>7.62</td>\n",
              "      <td>657.73</td>\n",
              "      <td>2.65</td>\n",
              "      <td>1.22</td>\n",
              "      <td>213.50</td>\n",
              "    </tr>\n",
              "    <tr>\n",
              "      <th>std</th>\n",
              "      <td>73.92</td>\n",
              "      <td>10.81</td>\n",
              "      <td>4.11</td>\n",
              "      <td>76.32</td>\n",
              "      <td>90.05</td>\n",
              "      <td>4.84</td>\n",
              "      <td>88.67</td>\n",
              "      <td>1.41</td>\n",
              "      <td>0.60</td>\n",
              "      <td>32.09</td>\n",
              "    </tr>\n",
              "    <tr>\n",
              "      <th>min</th>\n",
              "      <td>493.00</td>\n",
              "      <td>0.50</td>\n",
              "      <td>0.10</td>\n",
              "      <td>283.00</td>\n",
              "      <td>424.00</td>\n",
              "      <td>2.40</td>\n",
              "      <td>426.00</td>\n",
              "      <td>1.00</td>\n",
              "      <td>0.60</td>\n",
              "      <td>161.32</td>\n",
              "    </tr>\n",
              "    <tr>\n",
              "      <th>25%</th>\n",
              "      <td>686.25</td>\n",
              "      <td>8.38</td>\n",
              "      <td>1.70</td>\n",
              "      <td>352.00</td>\n",
              "      <td>653.00</td>\n",
              "      <td>4.35</td>\n",
              "      <td>633.25</td>\n",
              "      <td>1.62</td>\n",
              "      <td>0.90</td>\n",
              "      <td>194.72</td>\n",
              "    </tr>\n",
              "    <tr>\n",
              "      <th>50%</th>\n",
              "      <td>742.50</td>\n",
              "      <td>12.10</td>\n",
              "      <td>2.65</td>\n",
              "      <td>404.00</td>\n",
              "      <td>716.00</td>\n",
              "      <td>6.65</td>\n",
              "      <td>675.50</td>\n",
              "      <td>2.50</td>\n",
              "      <td>0.90</td>\n",
              "      <td>210.17</td>\n",
              "    </tr>\n",
              "    <tr>\n",
              "      <th>75%</th>\n",
              "      <td>774.25</td>\n",
              "      <td>16.73</td>\n",
              "      <td>4.35</td>\n",
              "      <td>465.00</td>\n",
              "      <td>757.00</td>\n",
              "      <td>9.82</td>\n",
              "      <td>710.75</td>\n",
              "      <td>3.38</td>\n",
              "      <td>1.37</td>\n",
              "      <td>235.74</td>\n",
              "    </tr>\n",
              "    <tr>\n",
              "      <th>max</th>\n",
              "      <td>840.00</td>\n",
              "      <td>46.00</td>\n",
              "      <td>15.50</td>\n",
              "      <td>593.00</td>\n",
              "      <td>849.00</td>\n",
              "      <td>24.10</td>\n",
              "      <td>797.00</td>\n",
              "      <td>6.50</td>\n",
              "      <td>2.90</td>\n",
              "      <td>287.41</td>\n",
              "    </tr>\n",
              "  </tbody>\n",
              "</table>\n",
              "</div>"
            ],
            "text/plain": [
              "          HDI  Male Suicides  ...  Divorce Rate  Drugs Rate\n",
              "count   26.00          26.00  ...         26.00       26.00\n",
              "mean   725.19          14.22  ...          1.22      213.50\n",
              "std     73.92          10.81  ...          0.60       32.09\n",
              "min    493.00           0.50  ...          0.60      161.32\n",
              "25%    686.25           8.38  ...          0.90      194.72\n",
              "50%    742.50          12.10  ...          0.90      210.17\n",
              "75%    774.25          16.73  ...          1.37      235.74\n",
              "max    840.00          46.00  ...          2.90      287.41\n",
              "\n",
              "[8 rows x 10 columns]"
            ]
          },
          "metadata": {
            "tags": []
          },
          "execution_count": 76
        }
      ]
    },
    {
      "cell_type": "code",
      "metadata": {
        "id": "SzQGPtwVgNcI",
        "colab_type": "code",
        "outputId": "03b25d8f-6eb0-4915-a1a2-b161b5f62d2b",
        "colab": {
          "base_uri": "https://localhost:8080/",
          "height": 337
        }
      },
      "source": [
        "#Distribuição de frequência da variável dependente (Suicídios M)\n",
        "\n",
        "smx = sns.distplot(latinamerica['Male Suicides'])\n",
        "smx.figure.set_size_inches(12,5)"
      ],
      "execution_count": 0,
      "outputs": [
        {
          "output_type": "display_data",
          "data": {
            "image/png": "[encoded data removed]",
            "text/plain": [
              "<Figure size 864x360 with 1 Axes>"
            ]
          },
          "metadata": {
            "tags": []
          }
        }
      ]
    },
    {
      "cell_type": "code",
      "metadata": {
        "id": "H8MJzu_ngOFY",
        "colab_type": "code",
        "outputId": "2459a781-7b87-4780-98b0-4578674a56e6",
        "colab": {
          "base_uri": "https://localhost:8080/",
          "height": 337
        }
      },
      "source": [
        "#Distribuição de frequência da variável dependente (Suicídios F)\n",
        "\n",
        "sfx = sns.distplot(latinamerica['Female Suicides'])\n",
        "sfx.figure.set_size_inches(12,5)"
      ],
      "execution_count": 0,
      "outputs": [
        {
          "output_type": "display_data",
          "data": {
            "image/png": "[encoded data removed]",
            "text/plain": [
              "<Figure size 864x360 with 1 Axes>"
            ]
          },
          "metadata": {
            "tags": []
          }
        }
      ]
    },
    {
      "cell_type": "markdown",
      "metadata": {
        "id": "VMzlFAcQge3M",
        "colab_type": "text"
      },
      "source": [
        "### Visualizando Relações"
      ]
    },
    {
      "cell_type": "code",
      "metadata": {
        "id": "iJSSNFZBgiUS",
        "colab_type": "code",
        "outputId": "96790828-7da7-4841-8da0-417410ff9f1e",
        "colab": {
          "base_uri": "https://localhost:8080/",
          "height": 394
        }
      },
      "source": [
        "#Matriz de Correlação\n",
        "\n",
        "latinamerica.corr().round(2)"
      ],
      "execution_count": 0,
      "outputs": [
        {
          "output_type": "execute_result",
          "data": {
            "text/html": [
              "<div>\n",
              "<style scoped>\n",
              "    .dataframe tbody tr th:only-of-type {\n",
              "        vertical-align: middle;\n",
              "    }\n",
              "\n",
              "    .dataframe tbody tr th {\n",
              "        vertical-align: top;\n",
              "    }\n",
              "\n",
              "    .dataframe thead th {\n",
              "        text-align: right;\n",
              "    }\n",
              "</style>\n",
              "<table border=\"1\" class=\"dataframe\">\n",
              "  <thead>\n",
              "    <tr style=\"text-align: right;\">\n",
              "      <th></th>\n",
              "      <th>HDI</th>\n",
              "      <th>Male Suicides</th>\n",
              "      <th>Female Suicides</th>\n",
              "      <th>Gender Inequality</th>\n",
              "      <th>Income Index</th>\n",
              "      <th>Unemployment Index</th>\n",
              "      <th>Education Index</th>\n",
              "      <th>Freedom Index</th>\n",
              "      <th>Divorce Rate</th>\n",
              "      <th>Drugs Rate</th>\n",
              "    </tr>\n",
              "  </thead>\n",
              "  <tbody>\n",
              "    <tr>\n",
              "      <th>HDI</th>\n",
              "      <td>1.00</td>\n",
              "      <td>-0.24</td>\n",
              "      <td>-0.35</td>\n",
              "      <td>-0.79</td>\n",
              "      <td>0.93</td>\n",
              "      <td>-0.03</td>\n",
              "      <td>0.93</td>\n",
              "      <td>-0.48</td>\n",
              "      <td>0.29</td>\n",
              "      <td>-0.06</td>\n",
              "    </tr>\n",
              "    <tr>\n",
              "      <th>Male Suicides</th>\n",
              "      <td>-0.24</td>\n",
              "      <td>1.00</td>\n",
              "      <td>0.92</td>\n",
              "      <td>0.20</td>\n",
              "      <td>-0.15</td>\n",
              "      <td>-0.01</td>\n",
              "      <td>-0.16</td>\n",
              "      <td>-0.03</td>\n",
              "      <td>-0.20</td>\n",
              "      <td>0.05</td>\n",
              "    </tr>\n",
              "    <tr>\n",
              "      <th>Female Suicides</th>\n",
              "      <td>-0.35</td>\n",
              "      <td>0.92</td>\n",
              "      <td>1.00</td>\n",
              "      <td>0.33</td>\n",
              "      <td>-0.27</td>\n",
              "      <td>-0.11</td>\n",
              "      <td>-0.23</td>\n",
              "      <td>0.09</td>\n",
              "      <td>-0.22</td>\n",
              "      <td>0.19</td>\n",
              "    </tr>\n",
              "    <tr>\n",
              "      <th>Gender Inequality</th>\n",
              "      <td>-0.79</td>\n",
              "      <td>0.20</td>\n",
              "      <td>0.33</td>\n",
              "      <td>1.00</td>\n",
              "      <td>-0.63</td>\n",
              "      <td>-0.08</td>\n",
              "      <td>-0.77</td>\n",
              "      <td>0.45</td>\n",
              "      <td>-0.26</td>\n",
              "      <td>0.13</td>\n",
              "    </tr>\n",
              "    <tr>\n",
              "      <th>Income Index</th>\n",
              "      <td>0.93</td>\n",
              "      <td>-0.15</td>\n",
              "      <td>-0.27</td>\n",
              "      <td>-0.63</td>\n",
              "      <td>1.00</td>\n",
              "      <td>-0.00</td>\n",
              "      <td>0.78</td>\n",
              "      <td>-0.59</td>\n",
              "      <td>0.13</td>\n",
              "      <td>0.09</td>\n",
              "    </tr>\n",
              "    <tr>\n",
              "      <th>Unemployment Index</th>\n",
              "      <td>-0.03</td>\n",
              "      <td>-0.01</td>\n",
              "      <td>-0.11</td>\n",
              "      <td>-0.08</td>\n",
              "      <td>-0.00</td>\n",
              "      <td>1.00</td>\n",
              "      <td>0.04</td>\n",
              "      <td>-0.38</td>\n",
              "      <td>-0.00</td>\n",
              "      <td>-0.16</td>\n",
              "    </tr>\n",
              "    <tr>\n",
              "      <th>Education Index</th>\n",
              "      <td>0.93</td>\n",
              "      <td>-0.16</td>\n",
              "      <td>-0.23</td>\n",
              "      <td>-0.77</td>\n",
              "      <td>0.78</td>\n",
              "      <td>0.04</td>\n",
              "      <td>1.00</td>\n",
              "      <td>-0.38</td>\n",
              "      <td>0.32</td>\n",
              "      <td>-0.17</td>\n",
              "    </tr>\n",
              "    <tr>\n",
              "      <th>Freedom Index</th>\n",
              "      <td>-0.48</td>\n",
              "      <td>-0.03</td>\n",
              "      <td>0.09</td>\n",
              "      <td>0.45</td>\n",
              "      <td>-0.59</td>\n",
              "      <td>-0.38</td>\n",
              "      <td>-0.38</td>\n",
              "      <td>1.00</td>\n",
              "      <td>0.16</td>\n",
              "      <td>-0.04</td>\n",
              "    </tr>\n",
              "    <tr>\n",
              "      <th>Divorce Rate</th>\n",
              "      <td>0.29</td>\n",
              "      <td>-0.20</td>\n",
              "      <td>-0.22</td>\n",
              "      <td>-0.26</td>\n",
              "      <td>0.13</td>\n",
              "      <td>-0.00</td>\n",
              "      <td>0.32</td>\n",
              "      <td>0.16</td>\n",
              "      <td>1.00</td>\n",
              "      <td>-0.11</td>\n",
              "    </tr>\n",
              "    <tr>\n",
              "      <th>Drugs Rate</th>\n",
              "      <td>-0.06</td>\n",
              "      <td>0.05</td>\n",
              "      <td>0.19</td>\n",
              "      <td>0.13</td>\n",
              "      <td>0.09</td>\n",
              "      <td>-0.16</td>\n",
              "      <td>-0.17</td>\n",
              "      <td>-0.04</td>\n",
              "      <td>-0.11</td>\n",
              "      <td>1.00</td>\n",
              "    </tr>\n",
              "  </tbody>\n",
              "</table>\n",
              "</div>"
            ],
            "text/plain": [
              "                     HDI  Male Suicides  ...  Divorce Rate  Drugs Rate\n",
              "HDI                 1.00          -0.24  ...          0.29       -0.06\n",
              "Male Suicides      -0.24           1.00  ...         -0.20        0.05\n",
              "Female Suicides    -0.35           0.92  ...         -0.22        0.19\n",
              "Gender Inequality  -0.79           0.20  ...         -0.26        0.13\n",
              "Income Index        0.93          -0.15  ...          0.13        0.09\n",
              "Unemployment Index -0.03          -0.01  ...         -0.00       -0.16\n",
              "Education Index     0.93          -0.16  ...          0.32       -0.17\n",
              "Freedom Index      -0.48          -0.03  ...          0.16       -0.04\n",
              "Divorce Rate        0.29          -0.20  ...          1.00       -0.11\n",
              "Drugs Rate         -0.06           0.05  ...         -0.11        1.00\n",
              "\n",
              "[10 rows x 10 columns]"
            ]
          },
          "metadata": {
            "tags": []
          },
          "execution_count": 79
        }
      ]
    },
    {
      "cell_type": "code",
      "metadata": {
        "id": "0_-wGfJKg8Mc",
        "colab_type": "code",
        "outputId": "5bf36767-7f32-4138-b40c-171cfaa8b556",
        "colab": {
          "base_uri": "https://localhost:8080/",
          "height": 392
        }
      },
      "source": [
        "#Visualizando as Relações [Divórcios e Suicídios (M)]\n",
        "\n",
        "plot.figure(figsize=(12,6))\n",
        "plot.plot(latinamerica['Divorce Rate'],latinamerica['Male Suicides'], 'o')\n",
        "plot.xlabel('Taxa de Divórcios a cada 1000 hab')\n",
        "plot.ylabel('Suicídios a cada 100.000 hab (M)')\n",
        "plot.show()"
      ],
      "execution_count": 0,
      "outputs": [
        {
          "output_type": "display_data",
          "data": {
            "image/png": "[encoded data removed]",
            "text/plain": [
              "<Figure size 864x432 with 1 Axes>"
            ]
          },
          "metadata": {
            "tags": []
          }
        }
      ]
    },
    {
      "cell_type": "code",
      "metadata": {
        "id": "p3_sPVpzhTaQ",
        "colab_type": "code",
        "outputId": "c569566e-19fc-45cc-a452-26e19e27f342",
        "colab": {
          "base_uri": "https://localhost:8080/",
          "height": 392
        }
      },
      "source": [
        "#Visualizando as Relações [IDH e Suicídios (M)]\n",
        "\n",
        "plot.figure(figsize=(12,6))\n",
        "plot.plot(latinamerica['HDI'],latinamerica['Male Suicides'], 'o')\n",
        "plot.xlabel('IDH')\n",
        "plot.ylabel('Suicídios a cada 100.000 hab (M)')\n",
        "plot.show()"
      ],
      "execution_count": 0,
      "outputs": [
        {
          "output_type": "display_data",
          "data": {
            "image/png": "[encoded data removed]",
            "text/plain": [
              "<Figure size 864x432 with 1 Axes>"
            ]
          },
          "metadata": {
            "tags": []
          }
        }
      ]
    },
    {
      "cell_type": "code",
      "metadata": {
        "id": "GLOIPIHJhq3k",
        "colab_type": "code",
        "outputId": "8520a619-46a8-465a-ed23-4a5adfa5c41b",
        "colab": {
          "base_uri": "https://localhost:8080/",
          "height": 392
        }
      },
      "source": [
        "#Visualizando as Relações [Transtornos causados pelo consumo de drogas e Suicídios (F)]\n",
        "\n",
        "plot.figure(figsize=(12,6))\n",
        "plot.plot(latinamerica['Drugs Rate'],latinamerica['Female Suicides'], 'o')\n",
        "plot.xlabel('Transtornos causados pelo consumo de drogas a cada 100.000 hab')\n",
        "plot.ylabel('Suicídios a cada 100.000 hab (F)')\n",
        "plot.show()"
      ],
      "execution_count": 0,
      "outputs": [
        {
          "output_type": "display_data",
          "data": {
            "image/png": "[encoded data removed]",
            "text/plain": [
              "<Figure size 864x432 with 1 Axes>"
            ]
          },
          "metadata": {
            "tags": []
          }
        }
      ]
    },
    {
      "cell_type": "code",
      "metadata": {
        "id": "sk96fjw6h9CU",
        "colab_type": "code",
        "outputId": "899716e2-9371-44f0-99ff-9e83e0b51a10",
        "colab": {
          "base_uri": "https://localhost:8080/",
          "height": 392
        }
      },
      "source": [
        "#Visualizando as Relações [Desigualdade de Gênero e Suicídios (F)]\n",
        "\n",
        "plot.figure(figsize=(12,6))\n",
        "plot.plot(latinamerica['Gender Inequality'],latinamerica['Female Suicides'], 'o')\n",
        "plot.xlabel('Desigualdade de Gênero (0: mais desigual, 1000: menos desigual)')\n",
        "plot.ylabel('Suicídios a cada 100.000 hab (F)')\n",
        "plot.show()"
      ],
      "execution_count": 0,
      "outputs": [
        {
          "output_type": "display_data",
          "data": {
            "image/png": "[encoded data removed]",
            "text/plain": [
              "<Figure size 864x432 with 1 Axes>"
            ]
          },
          "metadata": {
            "tags": []
          }
        }
      ]
    },
    {
      "cell_type": "markdown",
      "metadata": {
        "id": "n4kMFGLni0pZ",
        "colab_type": "text"
      },
      "source": [
        "### Regressão"
      ]
    },
    {
      "cell_type": "code",
      "metadata": {
        "id": "XcRgjq5Ki4lV",
        "colab_type": "code",
        "colab": {}
      },
      "source": [
        "#Relacionando duas variáveis\n",
        "\n",
        "def coeficientes(x,y):\n",
        "  mat = x.shape[0]\n",
        "  \n",
        "  soma_x = np.sum(x)\n",
        "  soma_x2 = np.sum(x**2)\n",
        "  \n",
        "  soma_y = np.sum(y)\n",
        "  soma_y2 = np.sum(y**2)\n",
        "  \n",
        "  soma_xy = np.sum(x*y)\n",
        "  \n",
        "  return np.linalg.solve([[mat,soma_x],[soma_x,soma_x2]],[soma_y,soma_xy])"
      ],
      "execution_count": 0,
      "outputs": []
    },
    {
      "cell_type": "code",
      "metadata": {
        "id": "63oCZnpbjdS-",
        "colab_type": "code",
        "outputId": "a1699995-5b5f-46a1-d545-cb7a8d4901be",
        "colab": {
          "base_uri": "https://localhost:8080/",
          "height": 392
        }
      },
      "source": [
        "#Relacionando a Taxa de Divórcios com a Taxa de Suicídios (M)\n",
        "\n",
        "a1,b1 = coeficientes(latinamerica['Divorce Rate'],latinamerica['Male Suicides'])\n",
        "dds = np.linspace(0,5,10)\n",
        "\n",
        "y1 = a1 + b1*dds\n",
        "\n",
        "plot.figure(figsize=(12,6))\n",
        "plot.plot(dds,y1)\n",
        "plot.plot(latinamerica['Divorce Rate'], latinamerica['Male Suicides'], 'o')\n",
        "plot.xlabel('Taxa de Divórcio a cada 1000 hab')\n",
        "plot.ylabel('Taxa de Suicídios a cada 100.000 hab (M)')\n",
        "plot.show()"
      ],
      "execution_count": 0,
      "outputs": [
        {
          "output_type": "display_data",
          "data": {
            "image/png": "[encoded data removed]",
            "text/plain": [
              "<Figure size 864x432 with 1 Axes>"
            ]
          },
          "metadata": {
            "tags": []
          }
        }
      ]
    },
    {
      "cell_type": "code",
      "metadata": {
        "id": "C19N__NzrF5N",
        "colab_type": "code",
        "outputId": "781f7f66-f24f-419b-b2c9-c87a53b05914",
        "colab": {
          "base_uri": "https://localhost:8080/",
          "height": 34
        }
      },
      "source": [
        "#Função que recebe Taxa de Divórcios e prediz Taxa de Suícidios (M)\n",
        "\n",
        "def SuicideDivorce(divorce_rate):\n",
        "  return a1+b1*divorce_rate\n",
        "\n",
        "SuicideDivorce(1).round(2)"
      ],
      "execution_count": 0,
      "outputs": [
        {
          "output_type": "execute_result",
          "data": {
            "text/plain": [
              "14.99"
            ]
          },
          "metadata": {
            "tags": []
          },
          "execution_count": 86
        }
      ]
    },
    {
      "cell_type": "code",
      "metadata": {
        "id": "BjgtY1n8pNoR",
        "colab_type": "code",
        "outputId": "88431e74-7099-4cbf-b446-cc9c221e78ff",
        "colab": {
          "base_uri": "https://localhost:8080/",
          "height": 392
        }
      },
      "source": [
        "#Relacionando o IDH com a Taxa de Suicídios (M)\n",
        "\n",
        "a2,b2 = coeficientes(latinamerica['HDI'],latinamerica['Male Suicides'])\n",
        "ids = np.linspace(480,900,10)\n",
        "\n",
        "y2 = a2 + b2*ids\n",
        "\n",
        "plot.figure(figsize=(12,6))\n",
        "plot.plot(ids,y2)\n",
        "plot.plot(latinamerica['HDI'], latinamerica['Male Suicides'], 'o')\n",
        "plot.xlabel('IDH')\n",
        "plot.ylabel('Taxa de Suicídios a cada 100.000 hab (M)')\n",
        "plot.show()"
      ],
      "execution_count": 0,
      "outputs": [
        {
          "output_type": "display_data",
          "data": {
            "image/png": "[encoded data removed]",
            "text/plain": [
              "<Figure size 864x432 with 1 Axes>"
            ]
          },
          "metadata": {
            "tags": []
          }
        }
      ]
    },
    {
      "cell_type": "code",
      "metadata": {
        "id": "PhutUSvYr1B0",
        "colab_type": "code",
        "outputId": "3961c8a8-a619-4e03-c47a-323eefd6e27f",
        "colab": {
          "base_uri": "https://localhost:8080/",
          "height": 34
        }
      },
      "source": [
        "#Função que recebe IDH e prediz Taxa de Suícidios (M)\n",
        "\n",
        "def SuicideIDH(idh):\n",
        "  return a2+b2*idh\n",
        "\n",
        "SuicideIDH(400).round(2)"
      ],
      "execution_count": 0,
      "outputs": [
        {
          "output_type": "execute_result",
          "data": {
            "text/plain": [
              "25.48"
            ]
          },
          "metadata": {
            "tags": []
          },
          "execution_count": 88
        }
      ]
    },
    {
      "cell_type": "code",
      "metadata": {
        "id": "P1hKeQ6upplz",
        "colab_type": "code",
        "outputId": "3dda927c-a195-40ff-cc93-059099148e7f",
        "colab": {
          "base_uri": "https://localhost:8080/",
          "height": 392
        }
      },
      "source": [
        "#Relacionando os Transtornos causados pelo consumo de drogas com a Taxa de Suicídios (F)\n",
        "\n",
        "a3,b3 = coeficientes(latinamerica['Drugs Rate'],latinamerica['Female Suicides'])\n",
        "dgs = np.linspace(150,300,10)\n",
        "\n",
        "y3 = a3 + b3*dgs\n",
        "\n",
        "plot.figure(figsize=(12,6))\n",
        "plot.plot(dgs,y3)\n",
        "plot.plot(latinamerica['Drugs Rate'], latinamerica['Female Suicides'], 'o')\n",
        "plot.xlabel('Transtornos causados pelo consumo de drogas a cada 100.000 hab')\n",
        "plot.ylabel('Taxa de Suicídios a cada 100.000 hab (M)')\n",
        "plot.show()"
      ],
      "execution_count": 0,
      "outputs": [
        {
          "output_type": "display_data",
          "data": {
            "image/png": "[encoded data removed]",
            "text/plain": [
              "<Figure size 864x432 with 1 Axes>"
            ]
          },
          "metadata": {
            "tags": []
          }
        }
      ]
    },
    {
      "cell_type": "code",
      "metadata": {
        "id": "1dLIp11GsGcQ",
        "colab_type": "code",
        "outputId": "39b46219-8def-4d5b-d577-413ff205be3e",
        "colab": {
          "base_uri": "https://localhost:8080/",
          "height": 34
        }
      },
      "source": [
        "#Função que recebe Taxa de Transtornos causados pelo consumo de drogas e prediz Taxa de Suícidios (F)\n",
        "\n",
        "def SuicideDrugs(drugs_rate):\n",
        "  return a3+b3*drugs_rate\n",
        "\n",
        "SuicideDrugs(300).round(2)"
      ],
      "execution_count": 0,
      "outputs": [
        {
          "output_type": "execute_result",
          "data": {
            "text/plain": [
              "6.22"
            ]
          },
          "metadata": {
            "tags": []
          },
          "execution_count": 90
        }
      ]
    },
    {
      "cell_type": "code",
      "metadata": {
        "id": "QCo9HTcJqGbf",
        "colab_type": "code",
        "outputId": "0bcd41aa-0e18-4dd1-bb76-94c198cbeb32",
        "colab": {
          "base_uri": "https://localhost:8080/",
          "height": 392
        }
      },
      "source": [
        "#Relacionando a Desigualdade de Gênero com a Taxa de Suicídios (F)\n",
        "\n",
        "a4,b4 = coeficientes(latinamerica['Gender Inequality'],latinamerica['Female Suicides'])\n",
        "gis = np.linspace(250,600,10)\n",
        "\n",
        "y4 = a4 + b4*gis\n",
        "\n",
        "plot.figure(figsize=(12,6))\n",
        "plot.plot(gis,y4)\n",
        "plot.plot(latinamerica['Gender Inequality'], latinamerica['Female Suicides'], 'o')\n",
        "plot.xlabel('Desigualdade de Gênero (0: mais desigual, 1000: menos desigual)')\n",
        "plot.ylabel('Taxa de Suicídios a cada 100.000 hab (M)')\n",
        "plot.show()"
      ],
      "execution_count": 0,
      "outputs": [
        {
          "output_type": "display_data",
          "data": {
            "image/png": "[encoded data removed]",
            "text/plain": [
              "<Figure size 864x432 with 1 Axes>"
            ]
          },
          "metadata": {
            "tags": []
          }
        }
      ]
    },
    {
      "cell_type": "code",
      "metadata": {
        "id": "jO3WHmWBsann",
        "colab_type": "code",
        "outputId": "dc10c1d4-f711-404d-e9ac-566f2be69c95",
        "colab": {
          "base_uri": "https://localhost:8080/",
          "height": 34
        }
      },
      "source": [
        "#Função que recebe Taxa de Desigualdade de Gênero e prediz Taxa de Suícidios (F)\n",
        "\n",
        "def SuicideGenderIneq(gender_ineq):\n",
        "  return a4+b4*gender_ineq\n",
        "\n",
        "SuicideGenderIneq(850).round(2)"
      ],
      "execution_count": 0,
      "outputs": [
        {
          "output_type": "execute_result",
          "data": {
            "text/plain": [
              "12.01"
            ]
          },
          "metadata": {
            "tags": []
          },
          "execution_count": 92
        }
      ]
    },
    {
      "cell_type": "markdown",
      "metadata": {
        "id": "CE3t7HPcs0Dl",
        "colab_type": "text"
      },
      "source": [
        "### Separando dados, treinando, analisando score e simulando o modelo para Suicídios (M)"
      ]
    },
    {
      "cell_type": "code",
      "metadata": {
        "id": "RRF1Gy9is8Ve",
        "colab_type": "code",
        "colab": {}
      },
      "source": [
        "#Série para armazenar a Taxa de Suicídios (M)\n",
        "\n",
        "Ym = latinamerica['Male Suicides']\n",
        "\n",
        "#DataFrame para as variáveis a relacionar\n",
        "\n",
        "Xm = latinamerica[['HDI', 'Divorce Rate', 'Income Index', 'Education Index']]\n",
        "\n",
        "#Separando dataset de treino e teste\n",
        "\n",
        "Xm_train,Xm_test, Ym_train, Ym_test = train_test_split(Xm,Ym,test_size=0.4, random_state = 42)"
      ],
      "execution_count": 0,
      "outputs": []
    },
    {
      "cell_type": "code",
      "metadata": {
        "id": "NIBRYGlYtLIG",
        "colab_type": "code",
        "outputId": "f276a26b-df70-4ef4-b33d-2f7d93f0edf5",
        "colab": {
          "base_uri": "https://localhost:8080/",
          "height": 34
        }
      },
      "source": [
        "#Treinando\n",
        "\n",
        "modelm = LinearRegression()\n",
        "\n",
        "modelm.fit(Xm_train, Ym_train)\n",
        "\n",
        "#Score do treino\n",
        "\n",
        "modelm.score(Xm_train, Ym_train)"
      ],
      "execution_count": 0,
      "outputs": [
        {
          "output_type": "execute_result",
          "data": {
            "text/plain": [
              "0.33290589675550863"
            ]
          },
          "metadata": {
            "tags": []
          },
          "execution_count": 106
        }
      ]
    },
    {
      "cell_type": "code",
      "metadata": {
        "id": "z_9S0cc-tpUw",
        "colab_type": "code",
        "outputId": "76677fd8-56cf-4435-8e9f-60b51d101374",
        "colab": {
          "base_uri": "https://localhost:8080/",
          "height": 34
        }
      },
      "source": [
        "#Efeito Médio na Taxa de Suicídio (M) quando as variáveis são zeradas\n",
        "\n",
        "modelm.intercept_.round(2)"
      ],
      "execution_count": 0,
      "outputs": [
        {
          "output_type": "execute_result",
          "data": {
            "text/plain": [
              "93.43"
            ]
          },
          "metadata": {
            "tags": []
          },
          "execution_count": 107
        }
      ]
    },
    {
      "cell_type": "code",
      "metadata": {
        "id": "eP1hPXqTtsZw",
        "colab_type": "code",
        "outputId": "72b0f0d2-474c-4bc6-f974-274711aef577",
        "colab": {
          "base_uri": "https://localhost:8080/",
          "height": 34
        }
      },
      "source": [
        "#Analisando os Coeficientes de Regressão\n",
        "\n",
        "modelm.coef_.round(2)"
      ],
      "execution_count": 0,
      "outputs": [
        {
          "output_type": "execute_result",
          "data": {
            "text/plain": [
              "array([-0.36,  2.41,  0.15,  0.11])"
            ]
          },
          "metadata": {
            "tags": []
          },
          "execution_count": 108
        }
      ]
    },
    {
      "cell_type": "code",
      "metadata": {
        "id": "4asUH4NtuPgc",
        "colab_type": "code",
        "colab": {}
      },
      "source": [
        "#Gerando previsão do modelo\n",
        "\n",
        "ym_previsto = modelm.predict(Xm_test)"
      ],
      "execution_count": 0,
      "outputs": []
    },
    {
      "cell_type": "code",
      "metadata": {
        "id": "a_at2H_Lug3A",
        "colab_type": "code",
        "outputId": "bad744da-2471-4121-9b58-94cd7bc8ea1e",
        "colab": {
          "base_uri": "https://localhost:8080/",
          "height": 34
        }
      },
      "source": [
        "metrics.r2_score(Ym_test,ym_previsto)"
      ],
      "execution_count": 0,
      "outputs": [
        {
          "output_type": "execute_result",
          "data": {
            "text/plain": [
              "-0.04967047361543364"
            ]
          },
          "metadata": {
            "tags": []
          },
          "execution_count": 110
        }
      ]
    },
    {
      "cell_type": "markdown",
      "metadata": {
        "id": "gMGq5Odby6ig",
        "colab_type": "text"
      },
      "source": [
        "### Separando dados, treinando, analisando score e simulando o modelo para Suicídios (F)"
      ]
    },
    {
      "cell_type": "code",
      "metadata": {
        "id": "CZy8ZryczfiX",
        "colab_type": "code",
        "colab": {}
      },
      "source": [
        "#Série para armazenar a Taxa de Suicídios (F)\n",
        "\n",
        "Yf = latinamerica['Female Suicides']\n",
        "\n",
        "#DataFrame para as variáveis a relacionar\n",
        "\n",
        "Xf = latinamerica[['HDI', 'Gender Inequality', 'Divorce Rate', 'Income Index', 'Education Index']]\n",
        "\n",
        "#Separando dataset de treino e teste\n",
        "\n",
        "Xf_train,Xf_test, Yf_train, Yf_test = train_test_split(Xf,Yf,test_size=0.4, random_state = 42)"
      ],
      "execution_count": 0,
      "outputs": []
    },
    {
      "cell_type": "code",
      "metadata": {
        "id": "hS_LKV44z6Ba",
        "colab_type": "code",
        "outputId": "d9a7f2e2-4f9c-4893-8a7c-7b398ea8ac06",
        "colab": {
          "base_uri": "https://localhost:8080/",
          "height": 34
        }
      },
      "source": [
        "#Treinando\n",
        "\n",
        "modelf = LinearRegression()\n",
        "\n",
        "modelf.fit(Xf_train, Yf_train)\n",
        "\n",
        "#Score do treino\n",
        "\n",
        "modelf.score(Xf_train, Yf_train)"
      ],
      "execution_count": 0,
      "outputs": [
        {
          "output_type": "execute_result",
          "data": {
            "text/plain": [
              "0.3753645269803124"
            ]
          },
          "metadata": {
            "tags": []
          },
          "execution_count": 100
        }
      ]
    },
    {
      "cell_type": "code",
      "metadata": {
        "id": "p5ktAmt-0E2T",
        "colab_type": "code",
        "outputId": "a111df23-5283-4ac4-96fe-cfeddf98bcb2",
        "colab": {
          "base_uri": "https://localhost:8080/",
          "height": 34
        }
      },
      "source": [
        "#Efeito Médio na Taxa de Suicídio (M) quando as variáveis são zeradas\n",
        "\n",
        "modelf.intercept_.round(2)"
      ],
      "execution_count": 0,
      "outputs": [
        {
          "output_type": "execute_result",
          "data": {
            "text/plain": [
              "37.25"
            ]
          },
          "metadata": {
            "tags": []
          },
          "execution_count": 101
        }
      ]
    },
    {
      "cell_type": "code",
      "metadata": {
        "id": "MYjiFOBI0atE",
        "colab_type": "code",
        "outputId": "047258ce-9956-4d4a-857a-df4f395f130d",
        "colab": {
          "base_uri": "https://localhost:8080/",
          "height": 34
        }
      },
      "source": [
        "#Analisando os Coeficientes de Regressão\n",
        "\n",
        "modelf.coef_.round(2)"
      ],
      "execution_count": 0,
      "outputs": [
        {
          "output_type": "execute_result",
          "data": {
            "text/plain": [
              "array([-0.16,  0.  ,  0.39,  0.06,  0.06])"
            ]
          },
          "metadata": {
            "tags": []
          },
          "execution_count": 102
        }
      ]
    },
    {
      "cell_type": "code",
      "metadata": {
        "id": "56-xbXxa0g6v",
        "colab_type": "code",
        "outputId": "2893f82c-5648-4cba-f3b7-b90bcc6d2d0d",
        "colab": {
          "base_uri": "https://localhost:8080/",
          "height": 34
        }
      },
      "source": [
        "#Gerando previsão e score do modelo\n",
        "\n",
        "yf_previsto = modelf.predict(Xf_test)\n",
        "metrics.r2_score(Yf_test,yf_previsto)"
      ],
      "execution_count": 0,
      "outputs": [
        {
          "output_type": "execute_result",
          "data": {
            "text/plain": [
              "0.2016130708523488"
            ]
          },
          "metadata": {
            "tags": []
          },
          "execution_count": 103
        }
      ]
    }
  ]
}